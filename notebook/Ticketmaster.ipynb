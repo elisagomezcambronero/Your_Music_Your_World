{
 "cells": [
  {
   "cell_type": "markdown",
   "id": "04daccda",
   "metadata": {},
   "source": [
    "## Search Ticketmaster events"
   ]
  },
  {
   "cell_type": "code",
   "execution_count": 1,
   "id": "8a7331a4",
   "metadata": {},
   "outputs": [],
   "source": [
    "import sys\n",
    "sys.path.append(\"../\")\n",
    "import src.ticketmaster as tk"
   ]
  },
  {
   "cell_type": "code",
   "execution_count": 3,
   "id": "cd894ce3",
   "metadata": {},
   "outputs": [],
   "source": [
    "import pandas as pd\n",
    "import requests"
   ]
  },
  {
   "cell_type": "code",
   "execution_count": 3,
   "id": "34c35773",
   "metadata": {},
   "outputs": [
    {
     "data": {
      "text/plain": [
       "True"
      ]
     },
     "execution_count": 3,
     "metadata": {},
     "output_type": "execute_result"
    }
   ],
   "source": [
    "import os\n",
    "from dotenv import load_dotenv\n",
    "load_dotenv()"
   ]
  },
  {
   "cell_type": "code",
   "execution_count": 4,
   "id": "7b6c9203",
   "metadata": {},
   "outputs": [],
   "source": [
    "token=os.getenv(\"token_ticketmaster\")"
   ]
  },
  {
   "cell_type": "markdown",
   "id": "8879789d",
   "metadata": {},
   "source": [
    "## Search how many of your liked artists have related events in ticketmaster"
   ]
  },
  {
   "cell_type": "code",
   "execution_count": 5,
   "id": "c1b04859",
   "metadata": {},
   "outputs": [],
   "source": [
    "df = pd.read_csv(\"../data/songs_you_like_clusterfeatures.csv\", index_col = 0 )"
   ]
  },
  {
   "cell_type": "code",
   "execution_count": 6,
   "id": "dbd6569b",
   "metadata": {},
   "outputs": [],
   "source": [
    "tick=[\"Cluster_features\",'Artist','Artist_followers']"
   ]
  },
  {
   "cell_type": "code",
   "execution_count": 7,
   "id": "36dc7768",
   "metadata": {},
   "outputs": [
    {
     "data": {
      "text/plain": [
       "Cluster_features     int64\n",
       "Artist              object\n",
       "Artist_followers     int64\n",
       "dtype: object"
      ]
     },
     "execution_count": 7,
     "metadata": {},
     "output_type": "execute_result"
    }
   ],
   "source": [
    "df_ticketmaster=df[tick]\n",
    "df_ticketmaster.dtypes"
   ]
  },
  {
   "cell_type": "code",
   "execution_count": 8,
   "id": "4aa5ba14",
   "metadata": {},
   "outputs": [],
   "source": [
    "df_ticketmaster_sorted = df_ticketmaster.sort_values([\"Cluster_features\", \"Artist_followers\"])"
   ]
  },
  {
   "cell_type": "code",
   "execution_count": 9,
   "id": "92351f68",
   "metadata": {},
   "outputs": [
    {
     "data": {
      "text/html": [
       "<div>\n",
       "<style scoped>\n",
       "    .dataframe tbody tr th:only-of-type {\n",
       "        vertical-align: middle;\n",
       "    }\n",
       "\n",
       "    .dataframe tbody tr th {\n",
       "        vertical-align: top;\n",
       "    }\n",
       "\n",
       "    .dataframe thead th {\n",
       "        text-align: right;\n",
       "    }\n",
       "</style>\n",
       "<table border=\"1\" class=\"dataframe\">\n",
       "  <thead>\n",
       "    <tr style=\"text-align: right;\">\n",
       "      <th></th>\n",
       "      <th>Cluster_features</th>\n",
       "      <th>Artist</th>\n",
       "      <th>Artist_followers</th>\n",
       "    </tr>\n",
       "  </thead>\n",
       "  <tbody>\n",
       "    <tr>\n",
       "      <th>608</th>\n",
       "      <td>0</td>\n",
       "      <td>Lost In Pacific</td>\n",
       "      <td>113</td>\n",
       "    </tr>\n",
       "    <tr>\n",
       "      <th>619</th>\n",
       "      <td>0</td>\n",
       "      <td>Lost In Pacific</td>\n",
       "      <td>113</td>\n",
       "    </tr>\n",
       "    <tr>\n",
       "      <th>467</th>\n",
       "      <td>0</td>\n",
       "      <td>CRISPIN</td>\n",
       "      <td>123</td>\n",
       "    </tr>\n",
       "    <tr>\n",
       "      <th>603</th>\n",
       "      <td>0</td>\n",
       "      <td>Polys</td>\n",
       "      <td>135</td>\n",
       "    </tr>\n",
       "    <tr>\n",
       "      <th>509</th>\n",
       "      <td>0</td>\n",
       "      <td>After Milo</td>\n",
       "      <td>161</td>\n",
       "    </tr>\n",
       "  </tbody>\n",
       "</table>\n",
       "</div>"
      ],
      "text/plain": [
       "     Cluster_features           Artist  Artist_followers\n",
       "608                 0  Lost In Pacific               113\n",
       "619                 0  Lost In Pacific               113\n",
       "467                 0          CRISPIN               123\n",
       "603                 0            Polys               135\n",
       "509                 0       After Milo               161"
      ]
     },
     "execution_count": 9,
     "metadata": {},
     "output_type": "execute_result"
    }
   ],
   "source": [
    "df_ticketmaster_sorted.head()"
   ]
  },
  {
   "cell_type": "code",
   "execution_count": 10,
   "id": "c6ecaf9d",
   "metadata": {},
   "outputs": [],
   "source": [
    "artist_list=df_ticketmaster[\"Artist\"].unique()"
   ]
  },
  {
   "cell_type": "code",
   "execution_count": 12,
   "id": "9694e640",
   "metadata": {},
   "outputs": [],
   "source": [
    "df_your_event = tk.your_artist_ticketmaster(artist_list, token)"
   ]
  },
  {
   "cell_type": "code",
   "execution_count": 13,
   "id": "3691f08d",
   "metadata": {},
   "outputs": [],
   "source": [
    "df_artist=df_your_event.sort_values(by=\"number_concerts\", ascending=False)"
   ]
  },
  {
   "cell_type": "code",
   "execution_count": 14,
   "id": "38c51b2f",
   "metadata": {},
   "outputs": [],
   "source": [
    "artists=df_artist[\"artist\"].unique()"
   ]
  },
  {
   "cell_type": "code",
   "execution_count": 15,
   "id": "ebd58d5a",
   "metadata": {},
   "outputs": [],
   "source": [
    "df_artist.to_csv(\"../data/df_artist_concerts.csv\")"
   ]
  },
  {
   "cell_type": "markdown",
   "id": "041a935d",
   "metadata": {},
   "source": [
    "## Conect to ticketmaster API to get you events"
   ]
  },
  {
   "cell_type": "code",
   "execution_count": 16,
   "id": "9ed70eab",
   "metadata": {},
   "outputs": [],
   "source": [
    "import datetime"
   ]
  },
  {
   "cell_type": "code",
   "execution_count": 23,
   "id": "ca7136a9",
   "metadata": {},
   "outputs": [],
   "source": [
    "df_events=tk.tu_request_ticketmaster(artists, token)"
   ]
  },
  {
   "cell_type": "code",
   "execution_count": 29,
   "id": "54320bb5",
   "metadata": {},
   "outputs": [],
   "source": [
    "df_events = pd.DataFrame(df_events)"
   ]
  },
  {
   "cell_type": "code",
   "execution_count": 32,
   "id": "bf2b27cd",
   "metadata": {},
   "outputs": [],
   "source": [
    "df_events[\"event_date\"] = df_events[\"event_date\"].dt.strftime(\"%d-%m-%Y\")"
   ]
  },
  {
   "cell_type": "code",
   "execution_count": 33,
   "id": "9037f5bd",
   "metadata": {},
   "outputs": [],
   "source": [
    "df_events[\"event_min_price\"] = df_events[\"event_min_price\"].fillna(\"Unknown\")\n",
    "df_events[\"event_max_price\"] = df_events[\"event_max_price\"].fillna(\"Unknown\")"
   ]
  },
  {
   "cell_type": "code",
   "execution_count": 35,
   "id": "1ffdee67",
   "metadata": {},
   "outputs": [
    {
     "data": {
      "text/plain": [
       "array(['United States Of America', 'Great Britain', 'Canada', 'Belgium',\n",
       "       'Germany', 'Czech Republic', 'Luxembourg', 'Denmark', 'Ireland',\n",
       "       'Mexico', 'Netherlands', 'New Zealand', 'Australia', 'Switzerland',\n",
       "       'Finland', 'Poland', 'Sweden', 'Spain'], dtype=object)"
      ]
     },
     "execution_count": 35,
     "metadata": {},
     "output_type": "execute_result"
    }
   ],
   "source": [
    "df_events[\"event_country\"].unique()"
   ]
  },
  {
   "cell_type": "code",
   "execution_count": 36,
   "id": "8f9fe292",
   "metadata": {},
   "outputs": [],
   "source": [
    "df_events['event_date'] = pd.to_datetime(df_events['event_date'], format=\"%d-%m-%Y\")\n",
    "df_events['year'] = df_events['event_date'].dt.year\n",
    "df_events['month'] = df_events['event_date'].dt.strftime(\"%B\")"
   ]
  },
  {
   "cell_type": "code",
   "execution_count": 13,
   "id": "78b8ac91",
   "metadata": {},
   "outputs": [],
   "source": [
    "df_events.to_csv(\"../data/df_events.csv\")"
   ]
  }
 ],
 "metadata": {
  "kernelspec": {
   "display_name": "Python 3 (ipykernel)",
   "language": "python",
   "name": "python3"
  },
  "language_info": {
   "codemirror_mode": {
    "name": "ipython",
    "version": 3
   },
   "file_extension": ".py",
   "mimetype": "text/x-python",
   "name": "python",
   "nbconvert_exporter": "python",
   "pygments_lexer": "ipython3",
   "version": "3.9.12"
  }
 },
 "nbformat": 4,
 "nbformat_minor": 5
}
