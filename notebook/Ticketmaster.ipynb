{
 "cells": [
  {
   "cell_type": "markdown",
   "id": "04daccda",
   "metadata": {},
   "source": [
    "## Search Ticketmaster events"
   ]
  },
  {
   "cell_type": "code",
   "execution_count": 1,
   "id": "8a7331a4",
   "metadata": {},
   "outputs": [],
   "source": [
    "import sys\n",
    "sys.path.append(\"../\")\n",
    "import src.ticketmaster as tk"
   ]
  },
  {
   "cell_type": "code",
   "execution_count": 2,
   "id": "cd894ce3",
   "metadata": {},
   "outputs": [],
   "source": [
    "import pandas as pd"
   ]
  },
  {
   "cell_type": "code",
   "execution_count": 3,
   "id": "34c35773",
   "metadata": {},
   "outputs": [
    {
     "data": {
      "text/plain": [
       "True"
      ]
     },
     "execution_count": 3,
     "metadata": {},
     "output_type": "execute_result"
    }
   ],
   "source": [
    "import os\n",
    "from dotenv import load_dotenv\n",
    "load_dotenv()"
   ]
  },
  {
   "cell_type": "code",
   "execution_count": 4,
   "id": "7b6c9203",
   "metadata": {},
   "outputs": [],
   "source": [
    "token=os.getenv(\"token_ticketmaster\")"
   ]
  },
  {
   "cell_type": "markdown",
   "id": "8879789d",
   "metadata": {},
   "source": [
    "## Search how many of your liked artists have related events in ticketmaster"
   ]
  },
  {
   "cell_type": "code",
   "execution_count": 5,
   "id": "c1b04859",
   "metadata": {},
   "outputs": [],
   "source": [
    "df = pd.read_csv(\"../data/songs_you_like_clusterfeatures.csv\", index_col = 0 )"
   ]
  },
  {
   "cell_type": "code",
   "execution_count": 6,
   "id": "dbd6569b",
   "metadata": {},
   "outputs": [],
   "source": [
    "tick=[\"Cluster_features\",'Artist','Artist_followers']"
   ]
  },
  {
   "cell_type": "code",
   "execution_count": 7,
   "id": "36dc7768",
   "metadata": {},
   "outputs": [
    {
     "data": {
      "text/plain": [
       "Cluster_features     int64\n",
       "Artist              object\n",
       "Artist_followers     int64\n",
       "dtype: object"
      ]
     },
     "execution_count": 7,
     "metadata": {},
     "output_type": "execute_result"
    }
   ],
   "source": [
    "df_ticketmaster=df[tick]\n",
    "df_ticketmaster.dtypes"
   ]
  },
  {
   "cell_type": "code",
   "execution_count": 8,
   "id": "4aa5ba14",
   "metadata": {},
   "outputs": [],
   "source": [
    "df_ticketmaster_sorted = df_ticketmaster.sort_values([\"Cluster_features\", \"Artist_followers\"])"
   ]
  },
  {
   "cell_type": "code",
   "execution_count": 9,
   "id": "92351f68",
   "metadata": {},
   "outputs": [
    {
     "data": {
      "text/html": [
       "<div>\n",
       "<style scoped>\n",
       "    .dataframe tbody tr th:only-of-type {\n",
       "        vertical-align: middle;\n",
       "    }\n",
       "\n",
       "    .dataframe tbody tr th {\n",
       "        vertical-align: top;\n",
       "    }\n",
       "\n",
       "    .dataframe thead th {\n",
       "        text-align: right;\n",
       "    }\n",
       "</style>\n",
       "<table border=\"1\" class=\"dataframe\">\n",
       "  <thead>\n",
       "    <tr style=\"text-align: right;\">\n",
       "      <th></th>\n",
       "      <th>Cluster_features</th>\n",
       "      <th>Artist</th>\n",
       "      <th>Artist_followers</th>\n",
       "    </tr>\n",
       "  </thead>\n",
       "  <tbody>\n",
       "    <tr>\n",
       "      <th>608</th>\n",
       "      <td>0</td>\n",
       "      <td>Lost In Pacific</td>\n",
       "      <td>113</td>\n",
       "    </tr>\n",
       "    <tr>\n",
       "      <th>619</th>\n",
       "      <td>0</td>\n",
       "      <td>Lost In Pacific</td>\n",
       "      <td>113</td>\n",
       "    </tr>\n",
       "    <tr>\n",
       "      <th>467</th>\n",
       "      <td>0</td>\n",
       "      <td>CRISPIN</td>\n",
       "      <td>123</td>\n",
       "    </tr>\n",
       "    <tr>\n",
       "      <th>603</th>\n",
       "      <td>0</td>\n",
       "      <td>Polys</td>\n",
       "      <td>135</td>\n",
       "    </tr>\n",
       "    <tr>\n",
       "      <th>509</th>\n",
       "      <td>0</td>\n",
       "      <td>After Milo</td>\n",
       "      <td>161</td>\n",
       "    </tr>\n",
       "  </tbody>\n",
       "</table>\n",
       "</div>"
      ],
      "text/plain": [
       "     Cluster_features           Artist  Artist_followers\n",
       "608                 0  Lost In Pacific               113\n",
       "619                 0  Lost In Pacific               113\n",
       "467                 0          CRISPIN               123\n",
       "603                 0            Polys               135\n",
       "509                 0       After Milo               161"
      ]
     },
     "execution_count": 9,
     "metadata": {},
     "output_type": "execute_result"
    }
   ],
   "source": [
    "df_ticketmaster_sorted.head()"
   ]
  },
  {
   "cell_type": "code",
   "execution_count": 78,
   "id": "c6ecaf9d",
   "metadata": {},
   "outputs": [],
   "source": [
    "artist_list=df_ticketmaster[\"Artist\"].unique()"
   ]
  },
  {
   "cell_type": "code",
   "execution_count": 79,
   "id": "9694e640",
   "metadata": {},
   "outputs": [
    {
     "data": {
      "text/html": [
       "<div>\n",
       "<style scoped>\n",
       "    .dataframe tbody tr th:only-of-type {\n",
       "        vertical-align: middle;\n",
       "    }\n",
       "\n",
       "    .dataframe tbody tr th {\n",
       "        vertical-align: top;\n",
       "    }\n",
       "\n",
       "    .dataframe thead th {\n",
       "        text-align: right;\n",
       "    }\n",
       "</style>\n",
       "<table border=\"1\" class=\"dataframe\">\n",
       "  <thead>\n",
       "    <tr style=\"text-align: right;\">\n",
       "      <th></th>\n",
       "      <th>artist</th>\n",
       "      <th>number_concerts</th>\n",
       "    </tr>\n",
       "  </thead>\n",
       "  <tbody>\n",
       "    <tr>\n",
       "      <th>0</th>\n",
       "      <td>Cocoon</td>\n",
       "      <td>1</td>\n",
       "    </tr>\n",
       "    <tr>\n",
       "      <th>1</th>\n",
       "      <td>The Police</td>\n",
       "      <td>11</td>\n",
       "    </tr>\n",
       "    <tr>\n",
       "      <th>2</th>\n",
       "      <td>Angus &amp; Julia Stone</td>\n",
       "      <td>1</td>\n",
       "    </tr>\n",
       "    <tr>\n",
       "      <th>3</th>\n",
       "      <td>Shakira</td>\n",
       "      <td>1</td>\n",
       "    </tr>\n",
       "    <tr>\n",
       "      <th>4</th>\n",
       "      <td>Becky G</td>\n",
       "      <td>4</td>\n",
       "    </tr>\n",
       "    <tr>\n",
       "      <th>...</th>\n",
       "      <td>...</td>\n",
       "      <td>...</td>\n",
       "    </tr>\n",
       "    <tr>\n",
       "      <th>365</th>\n",
       "      <td>Status Quo</td>\n",
       "      <td>5</td>\n",
       "    </tr>\n",
       "    <tr>\n",
       "      <th>366</th>\n",
       "      <td>The Chainsmokers</td>\n",
       "      <td>1</td>\n",
       "    </tr>\n",
       "    <tr>\n",
       "      <th>367</th>\n",
       "      <td>CNCO</td>\n",
       "      <td>10</td>\n",
       "    </tr>\n",
       "    <tr>\n",
       "      <th>368</th>\n",
       "      <td>Skegss</td>\n",
       "      <td>13</td>\n",
       "    </tr>\n",
       "    <tr>\n",
       "      <th>369</th>\n",
       "      <td>Bruno Mars</td>\n",
       "      <td>14</td>\n",
       "    </tr>\n",
       "  </tbody>\n",
       "</table>\n",
       "<p>370 rows × 2 columns</p>\n",
       "</div>"
      ],
      "text/plain": [
       "                  artist  number_concerts\n",
       "0                 Cocoon                1\n",
       "1             The Police               11\n",
       "2    Angus & Julia Stone                1\n",
       "3                Shakira                1\n",
       "4                Becky G                4\n",
       "..                   ...              ...\n",
       "365           Status Quo                5\n",
       "366     The Chainsmokers                1\n",
       "367                 CNCO               10\n",
       "368               Skegss               13\n",
       "369           Bruno Mars               14\n",
       "\n",
       "[370 rows x 2 columns]"
      ]
     },
     "execution_count": 79,
     "metadata": {},
     "output_type": "execute_result"
    }
   ],
   "source": [
    "df_your_event = tk.your_artist_ticketmaster(artist_list, token)"
   ]
  },
  {
   "cell_type": "code",
   "execution_count": 133,
   "id": "3691f08d",
   "metadata": {},
   "outputs": [],
   "source": [
    "df_artist=df_your_event.sort_values(by=\"number_concerts\", ascending=False)"
   ]
  },
  {
   "cell_type": "code",
   "execution_count": 134,
   "id": "38c51b2f",
   "metadata": {},
   "outputs": [],
   "source": [
    "artists=df_artist[\"artist\"].unique()"
   ]
  },
  {
   "cell_type": "markdown",
   "id": "041a935d",
   "metadata": {},
   "source": [
    "## Conect to ticketmaster API to get you events"
   ]
  },
  {
   "cell_type": "code",
   "execution_count": 137,
   "id": "ca7136a9",
   "metadata": {},
   "outputs": [],
   "source": [
    "df_events=tk.tu_request_ticketmaster(artists, token)"
   ]
  },
  {
   "cell_type": "code",
   "execution_count": 140,
   "id": "bf2b27cd",
   "metadata": {},
   "outputs": [],
   "source": [
    "df_events[\"event_date\"] = df_events[\"event_date\"].dt.strftime(\"%d-%m-%Y\")"
   ]
  },
  {
   "cell_type": "code",
   "execution_count": 145,
   "id": "9037f5bd",
   "metadata": {},
   "outputs": [],
   "source": [
    "df_events[\"event_min_price\"] = df_events[\"event_min_price\"].fillna(\"Unknown\")\n",
    "df_events[\"event_max_price\"] = df_events[\"event_max_price\"].fillna(\"Unknown\")"
   ]
  },
  {
   "cell_type": "code",
   "execution_count": 146,
   "id": "1f6b1a62",
   "metadata": {},
   "outputs": [
    {
     "data": {
      "text/html": [
       "<div>\n",
       "<style scoped>\n",
       "    .dataframe tbody tr th:only-of-type {\n",
       "        vertical-align: middle;\n",
       "    }\n",
       "\n",
       "    .dataframe tbody tr th {\n",
       "        vertical-align: top;\n",
       "    }\n",
       "\n",
       "    .dataframe thead th {\n",
       "        text-align: right;\n",
       "    }\n",
       "</style>\n",
       "<table border=\"1\" class=\"dataframe\">\n",
       "  <thead>\n",
       "    <tr style=\"text-align: right;\">\n",
       "      <th></th>\n",
       "      <th>event_name</th>\n",
       "      <th>event_location</th>\n",
       "      <th>event_lat</th>\n",
       "      <th>event_long</th>\n",
       "      <th>event_date</th>\n",
       "      <th>event_min_price</th>\n",
       "      <th>event_max_price</th>\n",
       "      <th>artist</th>\n",
       "      <th>url</th>\n",
       "    </tr>\n",
       "  </thead>\n",
       "  <tbody>\n",
       "    <tr>\n",
       "      <th>0</th>\n",
       "      <td>Luna</td>\n",
       "      <td>Washington</td>\n",
       "      <td>38.91819</td>\n",
       "      <td>-77.02241</td>\n",
       "      <td>06-09-2023</td>\n",
       "      <td>44.0</td>\n",
       "      <td>44.0</td>\n",
       "      <td>Luna</td>\n",
       "      <td>https://www.ticketmaster.com/luna-washington-d...</td>\n",
       "    </tr>\n",
       "    <tr>\n",
       "      <th>1</th>\n",
       "      <td>Luna</td>\n",
       "      <td>New York</td>\n",
       "      <td>40.720364</td>\n",
       "      <td>-73.993542</td>\n",
       "      <td>08-09-2023</td>\n",
       "      <td>35.0</td>\n",
       "      <td>35.0</td>\n",
       "      <td>Luna</td>\n",
       "      <td>https://www.ticketmaster.com/luna-new-york-new...</td>\n",
       "    </tr>\n",
       "    <tr>\n",
       "      <th>2</th>\n",
       "      <td>Luna</td>\n",
       "      <td>New York</td>\n",
       "      <td>40.720364</td>\n",
       "      <td>-73.993542</td>\n",
       "      <td>09-09-2023</td>\n",
       "      <td>35.0</td>\n",
       "      <td>35.0</td>\n",
       "      <td>Luna</td>\n",
       "      <td>https://www.ticketmaster.com/luna-new-york-new...</td>\n",
       "    </tr>\n",
       "    <tr>\n",
       "      <th>3</th>\n",
       "      <td>Luna</td>\n",
       "      <td>New York</td>\n",
       "      <td>40.720364</td>\n",
       "      <td>-73.993542</td>\n",
       "      <td>10-09-2023</td>\n",
       "      <td>35.0</td>\n",
       "      <td>35.0</td>\n",
       "      <td>Luna</td>\n",
       "      <td>https://www.ticketmaster.com/luna-new-york-new...</td>\n",
       "    </tr>\n",
       "    <tr>\n",
       "      <th>4</th>\n",
       "      <td>Luna Bec</td>\n",
       "      <td>London</td>\n",
       "      <td>51.53738687</td>\n",
       "      <td>-0.14575869</td>\n",
       "      <td>17-05-2023</td>\n",
       "      <td>Unknown</td>\n",
       "      <td>Unknown</td>\n",
       "      <td>Luna</td>\n",
       "      <td>https://www.ticketweb.uk/event/luna-bec-green-...</td>\n",
       "    </tr>\n",
       "  </tbody>\n",
       "</table>\n",
       "</div>"
      ],
      "text/plain": [
       "  event_name event_location    event_lat   event_long  event_date  \\\n",
       "0       Luna     Washington     38.91819    -77.02241  06-09-2023   \n",
       "1       Luna       New York    40.720364   -73.993542  08-09-2023   \n",
       "2       Luna       New York    40.720364   -73.993542  09-09-2023   \n",
       "3       Luna       New York    40.720364   -73.993542  10-09-2023   \n",
       "4   Luna Bec         London  51.53738687  -0.14575869  17-05-2023   \n",
       "\n",
       "  event_min_price event_max_price artist  \\\n",
       "0            44.0            44.0   Luna   \n",
       "1            35.0            35.0   Luna   \n",
       "2            35.0            35.0   Luna   \n",
       "3            35.0            35.0   Luna   \n",
       "4         Unknown         Unknown   Luna   \n",
       "\n",
       "                                                 url  \n",
       "0  https://www.ticketmaster.com/luna-washington-d...  \n",
       "1  https://www.ticketmaster.com/luna-new-york-new...  \n",
       "2  https://www.ticketmaster.com/luna-new-york-new...  \n",
       "3  https://www.ticketmaster.com/luna-new-york-new...  \n",
       "4  https://www.ticketweb.uk/event/luna-bec-green-...  "
      ]
     },
     "execution_count": 146,
     "metadata": {},
     "output_type": "execute_result"
    }
   ],
   "source": [
    "df_events.head()"
   ]
  },
  {
   "cell_type": "code",
   "execution_count": 141,
   "id": "78b8ac91",
   "metadata": {},
   "outputs": [],
   "source": [
    "df.to_csv(\"../data/df_events.csv\")"
   ]
  },
  {
   "cell_type": "code",
   "execution_count": 147,
   "id": "8d278b54",
   "metadata": {},
   "outputs": [
    {
     "data": {
      "text/plain": [
       "array(['Washington', 'New York', 'London', 'Dublin', 'Groningen',\n",
       "       'Tucson', 'Glasgow', 'Birmingham', 'St Albans', 'Syracuse',\n",
       "       'Marbella', 'México', 'West Hollywood', 'Greeley',\n",
       "       'Newcastle Upon Tyne', 'Sheffield', 'Manchester', 'Ferndale',\n",
       "       'Belfast', 'Chicago', 'Bradford', 'Clifton', 'Indianapolis',\n",
       "       'Boston', 'Atlanta', 'Baton Rouge', 'Portsmouth', 'Everett',\n",
       "       'Windsor', 'Nottingham', 'Austin', 'Fort Worth', 'Inglewood',\n",
       "       'Denver', 'San Francisco', 'Orlando', 'San Diego', 'Seattle',\n",
       "       'Charlotte', 'Hollywood', 'Saint Paul', 'Detroit',\n",
       "       'Salt Lake City', 'Columbus', 'Pittsburgh', 'Royal Oak',\n",
       "       'Philadelphia', 'Toronto', 'Phoenix', 'St Louis', 'Madison',\n",
       "       ' Minneapolis', 'Montreal', 'Raleigh', 'Dallas', 'Austin ',\n",
       "       'Vorst', 'Leeds', 'Hamburg', 'Bonner Springs', 'Woodlands',\n",
       "       'Chula Vista', 'Los Angeles', 'Mountain View', 'West Valley City',\n",
       "       'Rogers', 'Somerset', 'Cincinnati', 'Noblesville', 'Las Vegas',\n",
       "       'San Antonio', 'Cleveland', 'Houston', 'Holmdel', 'Jacksonville',\n",
       "       'Alpharetta', 'Baltimore', 'Praha 7', 'Munich', 'Amsterdam',\n",
       "       'Oberhausen', 'Forest Hills', 'Nashville', 'Esch-sur-Alzette',\n",
       "       'København S', 'Columbia', 'Rosemont', 'Sterling Heights',\n",
       "       'Irving', 'Oakland', 'Vancouver', 'Silver Spring', 'Brooklyn',\n",
       "       'Minneapolis', 'Kansas City', 'Tempe', 'Bristol', 'Reading',\n",
       "       'Durant', 'Portland', 'Spokane', 'Biloxi', 'Winston-Salem',\n",
       "       'Clarkston', 'Sacramento', 'Co. Dublin', 'Merksem (Antwerpen)',\n",
       "       'København Ø', 'Praha 9', 'Helsinki', 'Edinburgh ', 'Leesburg',\n",
       "       'Costa Mesa', 'Whitley Bay', 'Cambridge', 'Liverpool',\n",
       "       'Coral Gables', 'Brighton', 'Coral Springs', 'Wrexham', 'Cardiff'],\n",
       "      dtype=object)"
      ]
     },
     "execution_count": 147,
     "metadata": {},
     "output_type": "execute_result"
    }
   ],
   "source": [
    "df[\"event_location\"].unique()"
   ]
  }
 ],
 "metadata": {
  "kernelspec": {
   "display_name": "Python 3 (ipykernel)",
   "language": "python",
   "name": "python3"
  },
  "language_info": {
   "codemirror_mode": {
    "name": "ipython",
    "version": 3
   },
   "file_extension": ".py",
   "mimetype": "text/x-python",
   "name": "python",
   "nbconvert_exporter": "python",
   "pygments_lexer": "ipython3",
   "version": "3.9.12"
  }
 },
 "nbformat": 4,
 "nbformat_minor": 5
}
