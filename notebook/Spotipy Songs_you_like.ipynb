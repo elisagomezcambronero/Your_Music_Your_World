{
 "cells": [
  {
   "cell_type": "markdown",
   "id": "56ad1f1b",
   "metadata": {},
   "source": [
    "# Get from Spotify: Songs you like"
   ]
  },
  {
   "cell_type": "code",
   "execution_count": 1,
   "id": "f7cf19dc",
   "metadata": {},
   "outputs": [],
   "source": [
    "#imports\n",
    "import pandas as pd\n",
    "import warnings\n",
    "warnings.filterwarnings('ignore')"
   ]
  },
  {
   "cell_type": "code",
   "execution_count": 2,
   "id": "bd09ff66",
   "metadata": {},
   "outputs": [],
   "source": [
    "#connect to playlist.py\n",
    "import sys\n",
    "sys.path.append(\"../\")\n",
    "import src.playlist as pl"
   ]
  },
  {
   "cell_type": "markdown",
   "id": "205728db",
   "metadata": {},
   "source": [
    "## Get Credentials "
   ]
  },
  {
   "cell_type": "code",
   "execution_count": 3,
   "id": "1ddf6e49",
   "metadata": {},
   "outputs": [
    {
     "data": {
      "text/plain": [
       "True"
      ]
     },
     "execution_count": 3,
     "metadata": {},
     "output_type": "execute_result"
    }
   ],
   "source": [
    "import os\n",
    "from dotenv import load_dotenv\n",
    "load_dotenv()"
   ]
  },
  {
   "cell_type": "code",
   "execution_count": 4,
   "id": "b4acbba0",
   "metadata": {},
   "outputs": [],
   "source": [
    "Client_id=os.getenv(\"client_id\")\n",
    "Client_secret=os.getenv(\"client_secret\")\n",
    "Redirect_uri=os.getenv(\"redirect_uri\")"
   ]
  },
  {
   "cell_type": "code",
   "execution_count": 5,
   "id": "ec01143c",
   "metadata": {},
   "outputs": [],
   "source": [
    "df_songs = pl.get_spotify_likes(Client_id, Client_secret, Redirect_uri)"
   ]
  },
  {
   "cell_type": "code",
   "execution_count": 6,
   "id": "e1658e8c",
   "metadata": {},
   "outputs": [
    {
     "data": {
      "text/plain": [
       "(1014, 17)"
      ]
     },
     "execution_count": 6,
     "metadata": {},
     "output_type": "execute_result"
    }
   ],
   "source": [
    "df_songs.shape"
   ]
  },
  {
   "cell_type": "code",
   "execution_count": 7,
   "id": "16be992f",
   "metadata": {},
   "outputs": [
    {
     "data": {
      "text/html": [
       "<div>\n",
       "<style scoped>\n",
       "    .dataframe tbody tr th:only-of-type {\n",
       "        vertical-align: middle;\n",
       "    }\n",
       "\n",
       "    .dataframe tbody tr th {\n",
       "        vertical-align: top;\n",
       "    }\n",
       "\n",
       "    .dataframe thead th {\n",
       "        text-align: right;\n",
       "    }\n",
       "</style>\n",
       "<table border=\"1\" class=\"dataframe\">\n",
       "  <thead>\n",
       "    <tr style=\"text-align: right;\">\n",
       "      <th></th>\n",
       "      <th>id</th>\n",
       "      <th>name</th>\n",
       "      <th>artist</th>\n",
       "      <th>album</th>\n",
       "      <th>release_date</th>\n",
       "      <th>popularity</th>\n",
       "      <th>song_decade</th>\n",
       "      <th>danceability</th>\n",
       "      <th>energy</th>\n",
       "      <th>loudness</th>\n",
       "      <th>speechiness</th>\n",
       "      <th>acousticness</th>\n",
       "      <th>liveness</th>\n",
       "      <th>tempo</th>\n",
       "      <th>duration_ms</th>\n",
       "      <th>valence</th>\n",
       "      <th>artist_followers</th>\n",
       "    </tr>\n",
       "  </thead>\n",
       "  <tbody>\n",
       "    <tr>\n",
       "      <th>0</th>\n",
       "      <td>0dXyHRIR9H4AfkEHGDsrSU</td>\n",
       "      <td>Chupee</td>\n",
       "      <td>Cocoon</td>\n",
       "      <td>My Friends All Died in a Plane Crash</td>\n",
       "      <td>2007-10-29</td>\n",
       "      <td>54</td>\n",
       "      <td>2000s</td>\n",
       "      <td>0.751</td>\n",
       "      <td>0.48</td>\n",
       "      <td>-6.124</td>\n",
       "      <td>0.0534</td>\n",
       "      <td>0.808</td>\n",
       "      <td>0.0634</td>\n",
       "      <td>120.027</td>\n",
       "      <td>176853</td>\n",
       "      <td>0.763</td>\n",
       "      <td>116711</td>\n",
       "    </tr>\n",
       "  </tbody>\n",
       "</table>\n",
       "</div>"
      ],
      "text/plain": [
       "                       id    name  artist  \\\n",
       "0  0dXyHRIR9H4AfkEHGDsrSU  Chupee  Cocoon   \n",
       "\n",
       "                                  album release_date  popularity song_decade  \\\n",
       "0  My Friends All Died in a Plane Crash   2007-10-29          54       2000s   \n",
       "\n",
       "   danceability  energy  loudness  speechiness  acousticness  liveness  \\\n",
       "0         0.751    0.48    -6.124       0.0534         0.808    0.0634   \n",
       "\n",
       "     tempo  duration_ms  valence  artist_followers  \n",
       "0  120.027       176853    0.763            116711  "
      ]
     },
     "execution_count": 7,
     "metadata": {},
     "output_type": "execute_result"
    }
   ],
   "source": [
    "df_songs.head(1)"
   ]
  },
  {
   "cell_type": "markdown",
   "id": "06bf63a9",
   "metadata": {},
   "source": [
    "### Nulls and duplicated"
   ]
  },
  {
   "cell_type": "code",
   "execution_count": 8,
   "id": "9ef7fdc7",
   "metadata": {},
   "outputs": [
    {
     "data": {
      "text/plain": [
       "id                  0\n",
       "name                0\n",
       "artist              0\n",
       "album               0\n",
       "release_date        0\n",
       "popularity          0\n",
       "song_decade         0\n",
       "danceability        0\n",
       "energy              0\n",
       "loudness            0\n",
       "speechiness         0\n",
       "acousticness        0\n",
       "liveness            0\n",
       "tempo               0\n",
       "duration_ms         0\n",
       "valence             0\n",
       "artist_followers    0\n",
       "dtype: int64"
      ]
     },
     "execution_count": 8,
     "metadata": {},
     "output_type": "execute_result"
    }
   ],
   "source": [
    "df_songs.isnull().sum()"
   ]
  },
  {
   "cell_type": "code",
   "execution_count": 9,
   "id": "819bda50",
   "metadata": {},
   "outputs": [
    {
     "data": {
      "text/plain": [
       "0"
      ]
     },
     "execution_count": 9,
     "metadata": {},
     "output_type": "execute_result"
    }
   ],
   "source": [
    "df_songs.duplicated().sum()"
   ]
  },
  {
   "cell_type": "code",
   "execution_count": 10,
   "id": "93256a09",
   "metadata": {},
   "outputs": [],
   "source": [
    "df_songs = df_songs.rename(columns=lambda x: x.capitalize())"
   ]
  },
  {
   "cell_type": "code",
   "execution_count": 11,
   "id": "aa11ae37",
   "metadata": {},
   "outputs": [],
   "source": [
    "df_songs.to_csv(\"../data/songs_you_like.csv\")"
   ]
  }
 ],
 "metadata": {
  "kernelspec": {
   "display_name": "Python 3 (ipykernel)",
   "language": "python",
   "name": "python3"
  },
  "language_info": {
   "codemirror_mode": {
    "name": "ipython",
    "version": 3
   },
   "file_extension": ".py",
   "mimetype": "text/x-python",
   "name": "python",
   "nbconvert_exporter": "python",
   "pygments_lexer": "ipython3",
   "version": "3.9.12"
  }
 },
 "nbformat": 4,
 "nbformat_minor": 5
}
