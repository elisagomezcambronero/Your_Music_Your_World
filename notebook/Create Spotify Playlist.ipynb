{
 "cells": [
  {
   "cell_type": "markdown",
   "id": "17c39f15",
   "metadata": {},
   "source": [
    "# Create Spotify Clustered playlists"
   ]
  },
  {
   "cell_type": "code",
   "execution_count": 1,
   "id": "a382cb5d",
   "metadata": {},
   "outputs": [],
   "source": [
    "import sys\n",
    "sys.path.append(\"../\")\n",
    "import src.playlist as pl"
   ]
  },
  {
   "cell_type": "code",
   "execution_count": 2,
   "id": "8f11d69a",
   "metadata": {},
   "outputs": [],
   "source": [
    "import warnings\n",
    "warnings.filterwarnings('ignore')"
   ]
  },
  {
   "cell_type": "code",
   "execution_count": 3,
   "id": "65d5a1cd",
   "metadata": {},
   "outputs": [],
   "source": [
    "import pandas as pd\n",
    "import numpy as np"
   ]
  },
  {
   "cell_type": "code",
   "execution_count": 4,
   "id": "f0b88f1f",
   "metadata": {},
   "outputs": [
    {
     "data": {
      "text/plain": [
       "True"
      ]
     },
     "execution_count": 4,
     "metadata": {},
     "output_type": "execute_result"
    }
   ],
   "source": [
    "import os\n",
    "from dotenv import load_dotenv\n",
    "load_dotenv()"
   ]
  },
  {
   "cell_type": "code",
   "execution_count": 5,
   "id": "8b01247a",
   "metadata": {},
   "outputs": [],
   "source": [
    "import spotipy\n",
    "from spotipy.oauth2 import SpotifyClientCredentials\n",
    "from spotipy.oauth2 import SpotifyOAuth"
   ]
  },
  {
   "cell_type": "markdown",
   "id": "b027fddc",
   "metadata": {},
   "source": [
    "## Preparing de DDBB to connect with Spotify"
   ]
  },
  {
   "cell_type": "code",
   "execution_count": 6,
   "id": "448c182d",
   "metadata": {},
   "outputs": [],
   "source": [
    "df = pd.read_csv(\"../data/songs_you_like_clusterfeatures.csv\", index_col = 0 )"
   ]
  },
  {
   "cell_type": "code",
   "execution_count": 7,
   "id": "3139c671",
   "metadata": {},
   "outputs": [],
   "source": [
    "df[\"Cluster_features\"] = df[\"Cluster_features\"].apply(pl.replace_clusters)"
   ]
  },
  {
   "cell_type": "code",
   "execution_count": 8,
   "id": "83605e23",
   "metadata": {},
   "outputs": [
    {
     "data": {
      "text/plain": [
       "array(['Winter', 'Summer'], dtype=object)"
      ]
     },
     "execution_count": 8,
     "metadata": {},
     "output_type": "execute_result"
    }
   ],
   "source": [
    "df[\"Cluster_features\"].unique()"
   ]
  },
  {
   "cell_type": "code",
   "execution_count": 9,
   "id": "5b41b027",
   "metadata": {},
   "outputs": [],
   "source": [
    "df[\"Id\"] =df[\"Id\"].apply(pl.spotify_uri)"
   ]
  },
  {
   "cell_type": "code",
   "execution_count": 10,
   "id": "fdd1fd5e",
   "metadata": {},
   "outputs": [
    {
     "data": {
      "text/plain": [
       "array(['Winter', 'Summer'], dtype=object)"
      ]
     },
     "execution_count": 10,
     "metadata": {},
     "output_type": "execute_result"
    }
   ],
   "source": [
    "df[\"Cluster_features\"].unique()"
   ]
  },
  {
   "cell_type": "markdown",
   "id": "4593d8d3",
   "metadata": {},
   "source": [
    "## Lets create summer & winter playlist on Spotify"
   ]
  },
  {
   "cell_type": "code",
   "execution_count": 11,
   "id": "2545dca1",
   "metadata": {},
   "outputs": [],
   "source": [
    "Client_id=os.getenv(\"client_id\")\n",
    "Client_secret=os.getenv(\"client_secret\")\n",
    "Redirect_uri=os.getenv(\"redirect_uri\")"
   ]
  },
  {
   "cell_type": "code",
   "execution_count": 12,
   "id": "1962426e",
   "metadata": {},
   "outputs": [],
   "source": [
    "scope = \"playlist-modify-public\" #scope to create playlist\n",
    "sp = spotipy.Spotify(auth_manager=SpotifyOAuth(scope=scope, client_id=Client_id, client_secret=Client_secret, \n",
    "                                               redirect_uri=Redirect_uri))\n",
    "user_info = sp.me()\n",
    "user_id = user_info['id']"
   ]
  },
  {
   "cell_type": "code",
   "execution_count": 13,
   "id": "0e96b890",
   "metadata": {},
   "outputs": [],
   "source": [
    "pl.create_cluster_playlists(df, user_id, Client_id, Client_secret, Redirect_uri)"
   ]
  }
 ],
 "metadata": {
  "kernelspec": {
   "display_name": "Python 3 (ipykernel)",
   "language": "python",
   "name": "python3"
  },
  "language_info": {
   "codemirror_mode": {
    "name": "ipython",
    "version": 3
   },
   "file_extension": ".py",
   "mimetype": "text/x-python",
   "name": "python",
   "nbconvert_exporter": "python",
   "pygments_lexer": "ipython3",
   "version": "3.9.12"
  }
 },
 "nbformat": 4,
 "nbformat_minor": 5
}
